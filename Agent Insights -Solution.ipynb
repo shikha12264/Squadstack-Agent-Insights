{
 "cells": [
  {
   "cell_type": "markdown",
   "id": "413270a2",
   "metadata": {},
   "source": [
    "Importing Libraries"
   ]
  },
  {
   "cell_type": "code",
   "execution_count": 2,
   "id": "8ecc9de6",
   "metadata": {},
   "outputs": [],
   "source": [
    "\n",
    "import pandas as pd\n",
    "import os\n",
    "import matplotlib.pyplot as plt\n",
    "import seaborn as sns\n",
    "\n"
   ]
  },
  {
   "cell_type": "code",
   "execution_count": 3,
   "id": "587b7a27",
   "metadata": {},
   "outputs": [],
   "source": [
    "%matplotlib inline\n",
    "sns.set_style('darkgrid')"
   ]
  },
  {
   "cell_type": "code",
   "execution_count": 4,
   "id": "0903ed45",
   "metadata": {},
   "outputs": [
    {
     "data": {
      "text/plain": [
       "'F:\\\\squadstack challenge'"
      ]
     },
     "execution_count": 4,
     "metadata": {},
     "output_type": "execute_result"
    }
   ],
   "source": [
    "#Get current working directory\n",
    "current = os.getcwd()\n",
    "current\n"
   ]
  },
  {
   "cell_type": "markdown",
   "id": "87b3ee25",
   "metadata": {},
   "source": [
    "Reading the Data"
   ]
  },
  {
   "cell_type": "code",
   "execution_count": 5,
   "id": "c2a409be",
   "metadata": {},
   "outputs": [
    {
     "data": {
      "text/html": [
       "<div>\n",
       "<style scoped>\n",
       "    .dataframe tbody tr th:only-of-type {\n",
       "        vertical-align: middle;\n",
       "    }\n",
       "\n",
       "    .dataframe tbody tr th {\n",
       "        vertical-align: top;\n",
       "    }\n",
       "\n",
       "    .dataframe thead th {\n",
       "        text-align: right;\n",
       "    }\n",
       "</style>\n",
       "<table border=\"1\" class=\"dataframe\">\n",
       "  <thead>\n",
       "    <tr style=\"text-align: right;\">\n",
       "      <th></th>\n",
       "      <th>id</th>\n",
       "      <th>followup_date</th>\n",
       "      <th>lead_created_at</th>\n",
       "      <th>leadId</th>\n",
       "      <th>followup_type</th>\n",
       "      <th>agentId</th>\n",
       "      <th>additional_data</th>\n",
       "    </tr>\n",
       "  </thead>\n",
       "  <tbody>\n",
       "    <tr>\n",
       "      <th>0</th>\n",
       "      <td>1</td>\n",
       "      <td>2020-03-05 14:38:54</td>\n",
       "      <td>2019-11-04 16:12:00-05:00</td>\n",
       "      <td>20293</td>\n",
       "      <td>calls</td>\n",
       "      <td>10</td>\n",
       "      <td>{'duration': 0, 'is_incoming': False}</td>\n",
       "    </tr>\n",
       "    <tr>\n",
       "      <th>1</th>\n",
       "      <td>2</td>\n",
       "      <td>2020-03-05 14:38:55</td>\n",
       "      <td>2019-11-04 16:12:00-05:00</td>\n",
       "      <td>20293</td>\n",
       "      <td>calls</td>\n",
       "      <td>10</td>\n",
       "      <td>{'duration': 0, 'is_incoming': False}</td>\n",
       "    </tr>\n",
       "    <tr>\n",
       "      <th>2</th>\n",
       "      <td>3</td>\n",
       "      <td>2020-01-06 19:11:39</td>\n",
       "      <td>2019-12-26 08:30:32-05:00</td>\n",
       "      <td>49122</td>\n",
       "      <td>calls</td>\n",
       "      <td>4</td>\n",
       "      <td>{'duration': 91, 'is_incoming': False}</td>\n",
       "    </tr>\n",
       "    <tr>\n",
       "      <th>3</th>\n",
       "      <td>4</td>\n",
       "      <td>2020-08-31 13:12:53</td>\n",
       "      <td>2020-08-30 19:39:18-04:00</td>\n",
       "      <td>58040</td>\n",
       "      <td>calls</td>\n",
       "      <td>9</td>\n",
       "      <td>{'duration': 0, 'is_incoming': False}</td>\n",
       "    </tr>\n",
       "    <tr>\n",
       "      <th>4</th>\n",
       "      <td>5</td>\n",
       "      <td>2020-10-14 14:47:23</td>\n",
       "      <td>2017-01-28 11:04:00-05:00</td>\n",
       "      <td>36567</td>\n",
       "      <td>calls</td>\n",
       "      <td>9</td>\n",
       "      <td>{'duration': 0, 'is_incoming': False}</td>\n",
       "    </tr>\n",
       "  </tbody>\n",
       "</table>\n",
       "</div>"
      ],
      "text/plain": [
       "   id        followup_date            lead_created_at  leadId followup_type  \\\n",
       "0   1  2020-03-05 14:38:54  2019-11-04 16:12:00-05:00   20293         calls   \n",
       "1   2  2020-03-05 14:38:55  2019-11-04 16:12:00-05:00   20293         calls   \n",
       "2   3  2020-01-06 19:11:39  2019-12-26 08:30:32-05:00   49122         calls   \n",
       "3   4  2020-08-31 13:12:53  2020-08-30 19:39:18-04:00   58040         calls   \n",
       "4   5  2020-10-14 14:47:23  2017-01-28 11:04:00-05:00   36567         calls   \n",
       "\n",
       "   agentId                         additional_data  \n",
       "0       10   {'duration': 0, 'is_incoming': False}  \n",
       "1       10   {'duration': 0, 'is_incoming': False}  \n",
       "2        4  {'duration': 91, 'is_incoming': False}  \n",
       "3        9   {'duration': 0, 'is_incoming': False}  \n",
       "4        9   {'duration': 0, 'is_incoming': False}  "
      ]
     },
     "execution_count": 5,
     "metadata": {},
     "output_type": "execute_result"
    }
   ],
   "source": [
    "#Read the csv file\n",
    "df_cp = pd.read_csv('dataset/agent_followup_data.csv')\n",
    "df_cp.head()"
   ]
  },
  {
   "cell_type": "code",
   "execution_count": 6,
   "id": "9efbe8c5",
   "metadata": {},
   "outputs": [],
   "source": [
    "#Creating a copy of the file so that if any wrong changes are done, can roll back to the original data\n",
    "df = df_cp.copy()"
   ]
  },
  {
   "cell_type": "code",
   "execution_count": 7,
   "id": "c2c66b13",
   "metadata": {},
   "outputs": [
    {
     "data": {
      "text/plain": [
       "(68354, 7)"
      ]
     },
     "execution_count": 7,
     "metadata": {},
     "output_type": "execute_result"
    }
   ],
   "source": [
    "df.shape"
   ]
  },
  {
   "cell_type": "code",
   "execution_count": 8,
   "id": "3febd1ca",
   "metadata": {},
   "outputs": [
    {
     "name": "stdout",
     "output_type": "stream",
     "text": [
      "<class 'pandas.core.frame.DataFrame'>\n",
      "RangeIndex: 68354 entries, 0 to 68353\n",
      "Data columns (total 7 columns):\n",
      " #   Column           Non-Null Count  Dtype \n",
      "---  ------           --------------  ----- \n",
      " 0   id               68354 non-null  int64 \n",
      " 1   followup_date    68354 non-null  object\n",
      " 2   lead_created_at  68354 non-null  object\n",
      " 3   leadId           68354 non-null  int64 \n",
      " 4   followup_type    68354 non-null  object\n",
      " 5   agentId          68354 non-null  int64 \n",
      " 6   additional_data  68354 non-null  object\n",
      "dtypes: int64(3), object(4)\n",
      "memory usage: 3.7+ MB\n"
     ]
    }
   ],
   "source": [
    "#Check the data types\n",
    "df.info()"
   ]
  },
  {
   "cell_type": "markdown",
   "id": "5ea085f6",
   "metadata": {},
   "source": [
    "Important to check if any null values are present.\n"
   ]
  },
  {
   "cell_type": "code",
   "execution_count": 9,
   "id": "8923bb8d",
   "metadata": {},
   "outputs": [
    {
     "data": {
      "text/plain": [
       "id                 0\n",
       "followup_date      0\n",
       "lead_created_at    0\n",
       "leadId             0\n",
       "followup_type      0\n",
       "agentId            0\n",
       "additional_data    0\n",
       "dtype: int64"
      ]
     },
     "execution_count": 9,
     "metadata": {},
     "output_type": "execute_result"
    }
   ],
   "source": [
    "df.isnull().sum()"
   ]
  },
  {
   "cell_type": "markdown",
   "id": "d78c9c7a",
   "metadata": {},
   "source": [
    "Dataset has no null values thus can proceed with data wrangling.\n",
    "\n",
    "## No. of Follow ups for each AgentID"
   ]
  },
  {
   "cell_type": "code",
   "execution_count": 10,
   "id": "a601938d",
   "metadata": {},
   "outputs": [
    {
     "data": {
      "text/plain": [
       "4     15290\n",
       "10    11655\n",
       "5     11241\n",
       "9      9281\n",
       "7      7819\n",
       "6      5606\n",
       "2      4086\n",
       "8      2732\n",
       "3       529\n",
       "0       115\n",
       "Name: agentId, dtype: int64"
      ]
     },
     "execution_count": 10,
     "metadata": {},
     "output_type": "execute_result"
    }
   ],
   "source": [
    "#Count the number of follow ups for each AgentID\n",
    "ag_follow_ups = df['agentId'].value_counts()\n",
    "ag_follow_ups"
   ]
  },
  {
   "cell_type": "code",
   "execution_count": 11,
   "id": "7dc785a4",
   "metadata": {},
   "outputs": [
    {
     "data": {
      "text/plain": [
       "'F:\\\\squadstack challenge'"
      ]
     },
     "execution_count": 11,
     "metadata": {},
     "output_type": "execute_result"
    }
   ],
   "source": [
    "pwd = os.getcwd()\n",
    "pwd"
   ]
  },
  {
   "cell_type": "code",
   "execution_count": 12,
   "id": "1d4ccd1e",
   "metadata": {},
   "outputs": [
    {
     "data": {
      "text/plain": [
       "['.git',\n",
       " '.ipynb_checkpoints',\n",
       " 'Agent Insights -Solution.ipynb',\n",
       " 'dataset',\n",
       " 'Distribution of Delay in Follow up.png',\n",
       " 'Distribution of Followup Type each Agent.png',\n",
       " 'Median delay in follow up per agent.png',\n",
       " 'Number of Distinct Leads each Agent.png',\n",
       " 'Number of Follow ups each Agent.png',\n",
       " 'Percentage of Follow Ups.png',\n",
       " 'Problem Statement.docx',\n",
       " 'Total number of times an Agent gets a call from a lead.png']"
      ]
     },
     "execution_count": 12,
     "metadata": {},
     "output_type": "execute_result"
    }
   ],
   "source": [
    "os.listdir()\n"
   ]
  },
  {
   "cell_type": "code",
   "execution_count": 15,
   "id": "0c8e5621",
   "metadata": {},
   "outputs": [
    {
     "data": {
      "image/png": "[encoded data removed]",
      "text/plain": [
       "<Figure size 1080x720 with 1 Axes>"
      ]
     },
     "metadata": {},
     "output_type": "display_data"
    }
   ],
   "source": [
    "#Graphical representation for Count of followups by each agent. \n",
    "plt.figure(figsize=(15,10))\n",
    "ag_plot = sns.countplot(x = df['agentId'], palette='Blues_d')\n",
    "ag_plot.set_title('Number of follow ups each Agent')\n",
    "ag_plot.set_xlabel('AgentId')\n",
    "ag_plot.set_ylabel('Number of Follow ups')\n",
    "plt.savefig('Number of Follow ups each Agent.png')\n"
   ]
  },
  {
   "cell_type": "code",
   "execution_count": 16,
   "id": "17f818d0",
   "metadata": {},
   "outputs": [
    {
     "data": {
      "text/plain": [
       "4     22.37\n",
       "10    17.05\n",
       "5     16.45\n",
       "9     13.58\n",
       "7     11.44\n",
       "6      8.20\n",
       "2      5.98\n",
       "8      4.00\n",
       "3      0.77\n",
       "0      0.17\n",
       "Name: agentId, dtype: float64"
      ]
     },
     "execution_count": 16,
     "metadata": {},
     "output_type": "execute_result"
    }
   ],
   "source": [
    "#Another way to represent this would be in percentage i.e. percentage of all followups done by each agent. \n",
    "follow_ups_per = (df['agentId'].value_counts(normalize = True)*100).round(2)\n",
    "follow_ups_per"
   ]
  },
  {
   "cell_type": "code",
   "execution_count": 17,
   "id": "b41b6a00",
   "metadata": {},
   "outputs": [
    {
     "data": {
      "image/png": "[encoded data removed]",
      "text/plain": [
       "<Figure size 1080x720 with 1 Axes>"
      ]
     },
     "metadata": {},
     "output_type": "display_data"
    }
   ],
   "source": [
    "plt.figure(figsize=(15,10))\n",
    "ag_plot = sns.barplot(x = follow_ups_per.index, y = follow_ups_per.values, palette='Blues_d')\n",
    "ag_plot.set_title('Percentage of follow ups per Agent')\n",
    "ag_plot.set_xlabel('AgentId')\n",
    "ag_plot.set_ylabel('Percentage of Follow ups')\n",
    "plt.savefig('Percentage of Follow Ups.png')\n",
    "\n"
   ]
  },
  {
   "cell_type": "markdown",
   "id": "23cb9fbc",
   "metadata": {},
   "source": [
    "## Number of Distinct Leads per Agent"
   ]
  },
  {
   "cell_type": "code",
   "execution_count": 18,
   "id": "4499cc6b",
   "metadata": {},
   "outputs": [
    {
     "data": {
      "text/plain": [
       "agentId\n",
       "0        5\n",
       "2      874\n",
       "3      343\n",
       "4     1599\n",
       "5      398\n",
       "6      351\n",
       "7      364\n",
       "8      568\n",
       "9      876\n",
       "10    1425\n",
       "Name: leadId, dtype: int64"
      ]
     },
     "execution_count": 18,
     "metadata": {},
     "output_type": "execute_result"
    }
   ],
   "source": [
    "# number of leads per agentID. That could be a good indicator of the agent performance. \n",
    "leads_per_agent = df.groupby('agentId')['leadId'].nunique()   #split the data into groups based on some criteria\n",
    "leads_per_agent"
   ]
  },
  {
   "cell_type": "code",
   "execution_count": 19,
   "id": "5cb70908",
   "metadata": {},
   "outputs": [
    {
     "data": {
      "image/png": "[encoded data removed]",
      "text/plain": [
       "<Figure size 1080x720 with 1 Axes>"
      ]
     },
     "metadata": {},
     "output_type": "display_data"
    }
   ],
   "source": [
    "plt.figure(figsize=(15,10))\n",
    "ax_plot = sns.barplot(x = leads_per_agent.index, y = leads_per_agent.values, palette='Blues_d')\n",
    "ax_plot.set_title('Number of distinct leads each Agent')\n",
    "ax_plot.set_xlabel('AgentId')\n",
    "ax_plot.set_ylabel('Number of Distinct Leads')\n",
    "plt.savefig( 'Number of Distinct Leads each Agent.png')\n"
   ]
  },
  {
   "cell_type": "markdown",
   "id": "4e3c96e3",
   "metadata": {},
   "source": [
    "## Follow up Type (Calls email or text) broken down by each Agent"
   ]
  },
  {
   "cell_type": "code",
   "execution_count": 20,
   "id": "8cb0e936",
   "metadata": {},
   "outputs": [],
   "source": [
    "calls = df[df['followup_type'] == 'calls']\n",
    "emails = df[df['followup_type'] == 'emails']\n",
    "texts = df[df['followup_type'] == 'textmessages']\n",
    "texts_cnt = texts.groupby('agentId')['id'].count()\n",
    "calls_cnt = calls.groupby('agentId')['id'].count()\n",
    "emails_cnt = emails.groupby('agentId')['id'].count()\n"
   ]
  },
  {
   "cell_type": "code",
   "execution_count": 21,
   "id": "5da208b3",
   "metadata": {},
   "outputs": [
    {
     "data": {
      "text/html": [
       "<div>\n",
       "<style scoped>\n",
       "    .dataframe tbody tr th:only-of-type {\n",
       "        vertical-align: middle;\n",
       "    }\n",
       "\n",
       "    .dataframe tbody tr th {\n",
       "        vertical-align: top;\n",
       "    }\n",
       "\n",
       "    .dataframe thead th {\n",
       "        text-align: right;\n",
       "    }\n",
       "</style>\n",
       "<table border=\"1\" class=\"dataframe\">\n",
       "  <thead>\n",
       "    <tr style=\"text-align: right;\">\n",
       "      <th></th>\n",
       "      <th>Calls</th>\n",
       "      <th>Texts</th>\n",
       "      <th>Emails</th>\n",
       "    </tr>\n",
       "    <tr>\n",
       "      <th>agentId</th>\n",
       "      <th></th>\n",
       "      <th></th>\n",
       "      <th></th>\n",
       "    </tr>\n",
       "  </thead>\n",
       "  <tbody>\n",
       "    <tr>\n",
       "      <th>0</th>\n",
       "      <td>NaN</td>\n",
       "      <td>115</td>\n",
       "      <td>NaN</td>\n",
       "    </tr>\n",
       "    <tr>\n",
       "      <th>2</th>\n",
       "      <td>65.0</td>\n",
       "      <td>315</td>\n",
       "      <td>3706.0</td>\n",
       "    </tr>\n",
       "    <tr>\n",
       "      <th>3</th>\n",
       "      <td>NaN</td>\n",
       "      <td>13</td>\n",
       "      <td>516.0</td>\n",
       "    </tr>\n",
       "    <tr>\n",
       "      <th>4</th>\n",
       "      <td>1087.0</td>\n",
       "      <td>7063</td>\n",
       "      <td>7140.0</td>\n",
       "    </tr>\n",
       "    <tr>\n",
       "      <th>5</th>\n",
       "      <td>6.0</td>\n",
       "      <td>170</td>\n",
       "      <td>11065.0</td>\n",
       "    </tr>\n",
       "  </tbody>\n",
       "</table>\n",
       "</div>"
      ],
      "text/plain": [
       "          Calls  Texts   Emails\n",
       "agentId                        \n",
       "0           NaN    115      NaN\n",
       "2          65.0    315   3706.0\n",
       "3           NaN     13    516.0\n",
       "4        1087.0   7063   7140.0\n",
       "5           6.0    170  11065.0"
      ]
     },
     "execution_count": 21,
     "metadata": {},
     "output_type": "execute_result"
    }
   ],
   "source": [
    "\n",
    "cnt_df = pd.DataFrame({'Calls' : calls_cnt, 'Texts':texts_cnt, 'Emails':emails_cnt})\n",
    "cnt_df.head()"
   ]
  },
  {
   "cell_type": "code",
   "execution_count": 22,
   "id": "ef30ede4",
   "metadata": {},
   "outputs": [
    {
     "data": {
      "text/html": [
       "<div>\n",
       "<style scoped>\n",
       "    .dataframe tbody tr th:only-of-type {\n",
       "        vertical-align: middle;\n",
       "    }\n",
       "\n",
       "    .dataframe tbody tr th {\n",
       "        vertical-align: top;\n",
       "    }\n",
       "\n",
       "    .dataframe thead th {\n",
       "        text-align: right;\n",
       "    }\n",
       "</style>\n",
       "<table border=\"1\" class=\"dataframe\">\n",
       "  <thead>\n",
       "    <tr style=\"text-align: right;\">\n",
       "      <th></th>\n",
       "      <th>Calls</th>\n",
       "      <th>Texts</th>\n",
       "      <th>Emails</th>\n",
       "    </tr>\n",
       "    <tr>\n",
       "      <th>agentId</th>\n",
       "      <th></th>\n",
       "      <th></th>\n",
       "      <th></th>\n",
       "    </tr>\n",
       "  </thead>\n",
       "  <tbody>\n",
       "    <tr>\n",
       "      <th>0</th>\n",
       "      <td>0.0</td>\n",
       "      <td>115</td>\n",
       "      <td>0.0</td>\n",
       "    </tr>\n",
       "    <tr>\n",
       "      <th>2</th>\n",
       "      <td>65.0</td>\n",
       "      <td>315</td>\n",
       "      <td>3706.0</td>\n",
       "    </tr>\n",
       "    <tr>\n",
       "      <th>3</th>\n",
       "      <td>0.0</td>\n",
       "      <td>13</td>\n",
       "      <td>516.0</td>\n",
       "    </tr>\n",
       "    <tr>\n",
       "      <th>4</th>\n",
       "      <td>1087.0</td>\n",
       "      <td>7063</td>\n",
       "      <td>7140.0</td>\n",
       "    </tr>\n",
       "    <tr>\n",
       "      <th>5</th>\n",
       "      <td>6.0</td>\n",
       "      <td>170</td>\n",
       "      <td>11065.0</td>\n",
       "    </tr>\n",
       "    <tr>\n",
       "      <th>6</th>\n",
       "      <td>210.0</td>\n",
       "      <td>3140</td>\n",
       "      <td>2256.0</td>\n",
       "    </tr>\n",
       "    <tr>\n",
       "      <th>7</th>\n",
       "      <td>183.0</td>\n",
       "      <td>2429</td>\n",
       "      <td>5207.0</td>\n",
       "    </tr>\n",
       "    <tr>\n",
       "      <th>8</th>\n",
       "      <td>293.0</td>\n",
       "      <td>494</td>\n",
       "      <td>1945.0</td>\n",
       "    </tr>\n",
       "    <tr>\n",
       "      <th>9</th>\n",
       "      <td>814.0</td>\n",
       "      <td>1175</td>\n",
       "      <td>7292.0</td>\n",
       "    </tr>\n",
       "    <tr>\n",
       "      <th>10</th>\n",
       "      <td>647.0</td>\n",
       "      <td>5378</td>\n",
       "      <td>5630.0</td>\n",
       "    </tr>\n",
       "  </tbody>\n",
       "</table>\n",
       "</div>"
      ],
      "text/plain": [
       "          Calls  Texts   Emails\n",
       "agentId                        \n",
       "0           0.0    115      0.0\n",
       "2          65.0    315   3706.0\n",
       "3           0.0     13    516.0\n",
       "4        1087.0   7063   7140.0\n",
       "5           6.0    170  11065.0\n",
       "6         210.0   3140   2256.0\n",
       "7         183.0   2429   5207.0\n",
       "8         293.0    494   1945.0\n",
       "9         814.0   1175   7292.0\n",
       "10        647.0   5378   5630.0"
      ]
     },
     "execution_count": 22,
     "metadata": {},
     "output_type": "execute_result"
    }
   ],
   "source": [
    "cnt_df.fillna(0, inplace=True)\n",
    "cnt_df"
   ]
  },
  {
   "cell_type": "code",
   "execution_count": 23,
   "id": "c508fe2b",
   "metadata": {},
   "outputs": [
    {
     "data": {
      "image/png": "[encoded data removed]",
      "text/plain": [
       "<Figure size 1296x1584 with 3 Axes>"
      ]
     },
     "metadata": {},
     "output_type": "display_data"
    }
   ],
   "source": [
    "fig, axes = plt.subplots(3, 1, figsize = (18, 22))\n",
    "for name, ax in zip(['Calls', 'Texts', 'Emails'], axes):\n",
    "    sns.barplot(x = cnt_df.index, y = cnt_df[name], ax = ax)\n",
    "    ax.set_ylabel('Count')\n",
    "    ax.set_title('Distribution of ' + str(name) + ' per agent')\n",
    "plt.savefig( 'Representation of Followup Type each Agent.png')\n"
   ]
  },
  {
   "cell_type": "markdown",
   "id": "2d8a3d2c",
   "metadata": {},
   "source": [
    "## Delay in Following up\n"
   ]
  },
  {
   "cell_type": "code",
   "execution_count": 24,
   "id": "55f75dba",
   "metadata": {},
   "outputs": [
    {
     "data": {
      "text/html": [
       "<div>\n",
       "<style scoped>\n",
       "    .dataframe tbody tr th:only-of-type {\n",
       "        vertical-align: middle;\n",
       "    }\n",
       "\n",
       "    .dataframe tbody tr th {\n",
       "        vertical-align: top;\n",
       "    }\n",
       "\n",
       "    .dataframe thead th {\n",
       "        text-align: right;\n",
       "    }\n",
       "</style>\n",
       "<table border=\"1\" class=\"dataframe\">\n",
       "  <thead>\n",
       "    <tr style=\"text-align: right;\">\n",
       "      <th></th>\n",
       "      <th>id</th>\n",
       "      <th>followup_date</th>\n",
       "      <th>lead_created_at</th>\n",
       "      <th>leadId</th>\n",
       "      <th>followup_type</th>\n",
       "      <th>agentId</th>\n",
       "      <th>additional_data</th>\n",
       "    </tr>\n",
       "  </thead>\n",
       "  <tbody>\n",
       "    <tr>\n",
       "      <th>0</th>\n",
       "      <td>1</td>\n",
       "      <td>2020-03-05 14:38:54</td>\n",
       "      <td>2019-11-04 16:12:00-05:00</td>\n",
       "      <td>20293</td>\n",
       "      <td>calls</td>\n",
       "      <td>10</td>\n",
       "      <td>{'duration': 0, 'is_incoming': False}</td>\n",
       "    </tr>\n",
       "    <tr>\n",
       "      <th>1</th>\n",
       "      <td>2</td>\n",
       "      <td>2020-03-05 14:38:55</td>\n",
       "      <td>2019-11-04 16:12:00-05:00</td>\n",
       "      <td>20293</td>\n",
       "      <td>calls</td>\n",
       "      <td>10</td>\n",
       "      <td>{'duration': 0, 'is_incoming': False}</td>\n",
       "    </tr>\n",
       "    <tr>\n",
       "      <th>2</th>\n",
       "      <td>3</td>\n",
       "      <td>2020-01-06 19:11:39</td>\n",
       "      <td>2019-12-26 08:30:32-05:00</td>\n",
       "      <td>49122</td>\n",
       "      <td>calls</td>\n",
       "      <td>4</td>\n",
       "      <td>{'duration': 91, 'is_incoming': False}</td>\n",
       "    </tr>\n",
       "    <tr>\n",
       "      <th>3</th>\n",
       "      <td>4</td>\n",
       "      <td>2020-08-31 13:12:53</td>\n",
       "      <td>2020-08-30 19:39:18-04:00</td>\n",
       "      <td>58040</td>\n",
       "      <td>calls</td>\n",
       "      <td>9</td>\n",
       "      <td>{'duration': 0, 'is_incoming': False}</td>\n",
       "    </tr>\n",
       "    <tr>\n",
       "      <th>4</th>\n",
       "      <td>5</td>\n",
       "      <td>2020-10-14 14:47:23</td>\n",
       "      <td>2017-01-28 11:04:00-05:00</td>\n",
       "      <td>36567</td>\n",
       "      <td>calls</td>\n",
       "      <td>9</td>\n",
       "      <td>{'duration': 0, 'is_incoming': False}</td>\n",
       "    </tr>\n",
       "  </tbody>\n",
       "</table>\n",
       "</div>"
      ],
      "text/plain": [
       "   id        followup_date            lead_created_at  leadId followup_type  \\\n",
       "0   1  2020-03-05 14:38:54  2019-11-04 16:12:00-05:00   20293         calls   \n",
       "1   2  2020-03-05 14:38:55  2019-11-04 16:12:00-05:00   20293         calls   \n",
       "2   3  2020-01-06 19:11:39  2019-12-26 08:30:32-05:00   49122         calls   \n",
       "3   4  2020-08-31 13:12:53  2020-08-30 19:39:18-04:00   58040         calls   \n",
       "4   5  2020-10-14 14:47:23  2017-01-28 11:04:00-05:00   36567         calls   \n",
       "\n",
       "   agentId                         additional_data  \n",
       "0       10   {'duration': 0, 'is_incoming': False}  \n",
       "1       10   {'duration': 0, 'is_incoming': False}  \n",
       "2        4  {'duration': 91, 'is_incoming': False}  \n",
       "3        9   {'duration': 0, 'is_incoming': False}  \n",
       "4        9   {'duration': 0, 'is_incoming': False}  "
      ]
     },
     "execution_count": 24,
     "metadata": {},
     "output_type": "execute_result"
    }
   ],
   "source": [
    "#followup_date and lead_created_at are both datetime strings. First, converting them and extracting insights from it so that we can subtract the values and get a column which shows the delay in following up.\n",
    "df.head()"
   ]
  },
  {
   "cell_type": "markdown",
   "id": "b6c6c716",
   "metadata": {},
   "source": [
    " Here, finding the difference between creation of lead and the followup time for each lead by subtracting the lead_created_at from followup_date. This gives us an idea on how much average time an agent takes to follow up on their lead.\n"
   ]
  },
  {
   "cell_type": "code",
   "execution_count": 25,
   "id": "ef5d9d1e",
   "metadata": {},
   "outputs": [],
   "source": [
    "df['followup_date'] = pd.to_datetime(df['followup_date'])\n",
    "df['followup_date'] = df['followup_date'].dt.date\n",
    "df['lead_created_at'] = pd.to_datetime(df['lead_created_at'], utc=True) #UTC = True because tz information in the column\n",
    "df['lead_created_at'] = df['lead_created_at'].dt.date"
   ]
  },
  {
   "cell_type": "markdown",
   "id": "43410379",
   "metadata": {},
   "source": [
    "Here, since we are dealing in number of days, havekept the Date part in the datetime columns.\n"
   ]
  },
  {
   "cell_type": "code",
   "execution_count": 26,
   "id": "4f85d711",
   "metadata": {
    "scrolled": true
   },
   "outputs": [
    {
     "data": {
      "text/html": [
       "<div>\n",
       "<style scoped>\n",
       "    .dataframe tbody tr th:only-of-type {\n",
       "        vertical-align: middle;\n",
       "    }\n",
       "\n",
       "    .dataframe tbody tr th {\n",
       "        vertical-align: top;\n",
       "    }\n",
       "\n",
       "    .dataframe thead th {\n",
       "        text-align: right;\n",
       "    }\n",
       "</style>\n",
       "<table border=\"1\" class=\"dataframe\">\n",
       "  <thead>\n",
       "    <tr style=\"text-align: right;\">\n",
       "      <th></th>\n",
       "      <th>id</th>\n",
       "      <th>followup_date</th>\n",
       "      <th>lead_created_at</th>\n",
       "      <th>leadId</th>\n",
       "      <th>followup_type</th>\n",
       "      <th>agentId</th>\n",
       "      <th>additional_data</th>\n",
       "    </tr>\n",
       "  </thead>\n",
       "  <tbody>\n",
       "    <tr>\n",
       "      <th>0</th>\n",
       "      <td>1</td>\n",
       "      <td>2020-03-05</td>\n",
       "      <td>2019-11-04</td>\n",
       "      <td>20293</td>\n",
       "      <td>calls</td>\n",
       "      <td>10</td>\n",
       "      <td>{'duration': 0, 'is_incoming': False}</td>\n",
       "    </tr>\n",
       "    <tr>\n",
       "      <th>1</th>\n",
       "      <td>2</td>\n",
       "      <td>2020-03-05</td>\n",
       "      <td>2019-11-04</td>\n",
       "      <td>20293</td>\n",
       "      <td>calls</td>\n",
       "      <td>10</td>\n",
       "      <td>{'duration': 0, 'is_incoming': False}</td>\n",
       "    </tr>\n",
       "    <tr>\n",
       "      <th>2</th>\n",
       "      <td>3</td>\n",
       "      <td>2020-01-06</td>\n",
       "      <td>2019-12-26</td>\n",
       "      <td>49122</td>\n",
       "      <td>calls</td>\n",
       "      <td>4</td>\n",
       "      <td>{'duration': 91, 'is_incoming': False}</td>\n",
       "    </tr>\n",
       "    <tr>\n",
       "      <th>3</th>\n",
       "      <td>4</td>\n",
       "      <td>2020-08-31</td>\n",
       "      <td>2020-08-30</td>\n",
       "      <td>58040</td>\n",
       "      <td>calls</td>\n",
       "      <td>9</td>\n",
       "      <td>{'duration': 0, 'is_incoming': False}</td>\n",
       "    </tr>\n",
       "    <tr>\n",
       "      <th>4</th>\n",
       "      <td>5</td>\n",
       "      <td>2020-10-14</td>\n",
       "      <td>2017-01-28</td>\n",
       "      <td>36567</td>\n",
       "      <td>calls</td>\n",
       "      <td>9</td>\n",
       "      <td>{'duration': 0, 'is_incoming': False}</td>\n",
       "    </tr>\n",
       "  </tbody>\n",
       "</table>\n",
       "</div>"
      ],
      "text/plain": [
       "   id followup_date lead_created_at  leadId followup_type  agentId  \\\n",
       "0   1    2020-03-05      2019-11-04   20293         calls       10   \n",
       "1   2    2020-03-05      2019-11-04   20293         calls       10   \n",
       "2   3    2020-01-06      2019-12-26   49122         calls        4   \n",
       "3   4    2020-08-31      2020-08-30   58040         calls        9   \n",
       "4   5    2020-10-14      2017-01-28   36567         calls        9   \n",
       "\n",
       "                          additional_data  \n",
       "0   {'duration': 0, 'is_incoming': False}  \n",
       "1   {'duration': 0, 'is_incoming': False}  \n",
       "2  {'duration': 91, 'is_incoming': False}  \n",
       "3   {'duration': 0, 'is_incoming': False}  \n",
       "4   {'duration': 0, 'is_incoming': False}  "
      ]
     },
     "execution_count": 26,
     "metadata": {},
     "output_type": "execute_result"
    }
   ],
   "source": [
    "df.head()"
   ]
  },
  {
   "cell_type": "code",
   "execution_count": 27,
   "id": "f1bfc6dc",
   "metadata": {},
   "outputs": [
    {
     "data": {
      "text/html": [
       "<div>\n",
       "<style scoped>\n",
       "    .dataframe tbody tr th:only-of-type {\n",
       "        vertical-align: middle;\n",
       "    }\n",
       "\n",
       "    .dataframe tbody tr th {\n",
       "        vertical-align: top;\n",
       "    }\n",
       "\n",
       "    .dataframe thead th {\n",
       "        text-align: right;\n",
       "    }\n",
       "</style>\n",
       "<table border=\"1\" class=\"dataframe\">\n",
       "  <thead>\n",
       "    <tr style=\"text-align: right;\">\n",
       "      <th></th>\n",
       "      <th>id</th>\n",
       "      <th>followup_date</th>\n",
       "      <th>lead_created_at</th>\n",
       "      <th>leadId</th>\n",
       "      <th>followup_type</th>\n",
       "      <th>agentId</th>\n",
       "      <th>additional_data</th>\n",
       "      <th>follow_up_delay (days)</th>\n",
       "    </tr>\n",
       "  </thead>\n",
       "  <tbody>\n",
       "    <tr>\n",
       "      <th>0</th>\n",
       "      <td>1</td>\n",
       "      <td>2020-03-05</td>\n",
       "      <td>2019-11-04</td>\n",
       "      <td>20293</td>\n",
       "      <td>calls</td>\n",
       "      <td>10</td>\n",
       "      <td>{'duration': 0, 'is_incoming': False}</td>\n",
       "      <td>122</td>\n",
       "    </tr>\n",
       "    <tr>\n",
       "      <th>1</th>\n",
       "      <td>2</td>\n",
       "      <td>2020-03-05</td>\n",
       "      <td>2019-11-04</td>\n",
       "      <td>20293</td>\n",
       "      <td>calls</td>\n",
       "      <td>10</td>\n",
       "      <td>{'duration': 0, 'is_incoming': False}</td>\n",
       "      <td>122</td>\n",
       "    </tr>\n",
       "    <tr>\n",
       "      <th>2</th>\n",
       "      <td>3</td>\n",
       "      <td>2020-01-06</td>\n",
       "      <td>2019-12-26</td>\n",
       "      <td>49122</td>\n",
       "      <td>calls</td>\n",
       "      <td>4</td>\n",
       "      <td>{'duration': 91, 'is_incoming': False}</td>\n",
       "      <td>11</td>\n",
       "    </tr>\n",
       "    <tr>\n",
       "      <th>3</th>\n",
       "      <td>4</td>\n",
       "      <td>2020-08-31</td>\n",
       "      <td>2020-08-30</td>\n",
       "      <td>58040</td>\n",
       "      <td>calls</td>\n",
       "      <td>9</td>\n",
       "      <td>{'duration': 0, 'is_incoming': False}</td>\n",
       "      <td>1</td>\n",
       "    </tr>\n",
       "    <tr>\n",
       "      <th>4</th>\n",
       "      <td>5</td>\n",
       "      <td>2020-10-14</td>\n",
       "      <td>2017-01-28</td>\n",
       "      <td>36567</td>\n",
       "      <td>calls</td>\n",
       "      <td>9</td>\n",
       "      <td>{'duration': 0, 'is_incoming': False}</td>\n",
       "      <td>1355</td>\n",
       "    </tr>\n",
       "  </tbody>\n",
       "</table>\n",
       "</div>"
      ],
      "text/plain": [
       "   id followup_date lead_created_at  leadId followup_type  agentId  \\\n",
       "0   1    2020-03-05      2019-11-04   20293         calls       10   \n",
       "1   2    2020-03-05      2019-11-04   20293         calls       10   \n",
       "2   3    2020-01-06      2019-12-26   49122         calls        4   \n",
       "3   4    2020-08-31      2020-08-30   58040         calls        9   \n",
       "4   5    2020-10-14      2017-01-28   36567         calls        9   \n",
       "\n",
       "                          additional_data  follow_up_delay (days)  \n",
       "0   {'duration': 0, 'is_incoming': False}                     122  \n",
       "1   {'duration': 0, 'is_incoming': False}                     122  \n",
       "2  {'duration': 91, 'is_incoming': False}                      11  \n",
       "3   {'duration': 0, 'is_incoming': False}                       1  \n",
       "4   {'duration': 0, 'is_incoming': False}                    1355  "
      ]
     },
     "execution_count": 27,
     "metadata": {},
     "output_type": "execute_result"
    }
   ],
   "source": [
    "#Timedelta[ns]\n",
    "df['follow_up_delay (days)'] = (df['followup_date'] - df['lead_created_at']).dt.days\n",
    "df.head()"
   ]
  },
  {
   "cell_type": "code",
   "execution_count": 28,
   "id": "90f43bc9",
   "metadata": {},
   "outputs": [
    {
     "data": {
      "text/plain": [
       "agentId\n",
       "0      60.0\n",
       "2      25.0\n",
       "3     392.0\n",
       "4     283.5\n",
       "5       8.0\n",
       "6      26.0\n",
       "7     410.0\n",
       "8      25.0\n",
       "9      66.0\n",
       "10    166.0\n",
       "Name: follow_up_delay (days), dtype: float64"
      ]
     },
     "execution_count": 28,
     "metadata": {},
     "output_type": "execute_result"
    },
    {
     "data": {
      "image/png": "[encoded data removed]",
      "text/plain": [
       "<Figure size 1080x720 with 1 Axes>"
      ]
     },
     "metadata": {},
     "output_type": "display_data"
    }
   ],
   "source": [
    "#Distribution to see if follow_up_delay is a normal distribution or not. \n",
    "plt.figure(figsize=(15, 10))\n",
    "ag_plot = sns.histplot(x = df['follow_up_delay (days)'], bins = 50, kde=True)\n",
    "ag_plot.set_title('Representation of Delay in Follow up (Number of Days)')\n",
    "ag_plot.set_xlabel('Number of Days')\n",
    "ag_plot.set_ylabel('Frequency')\n",
    "plt.savefig('Representation of Delay in Follow up.png')\n",
    "#Highly right skewed data. Thus median a better indicator.\n",
    "delay_per_agent = df.groupby('agentId')['follow_up_delay (days)'].median()\n",
    "delay_per_agent"
   ]
  },
  {
   "cell_type": "code",
   "execution_count": 29,
   "id": "384c18e9",
   "metadata": {},
   "outputs": [
    {
     "data": {
      "image/png": "[encoded data removed]",
      "text/plain": [
       "<Figure size 1080x720 with 1 Axes>"
      ]
     },
     "metadata": {},
     "output_type": "display_data"
    }
   ],
   "source": [
    "plt.figure(figsize=(15,10))\n",
    "ax = sns.barplot(x = delay_per_agent.index, y = delay_per_agent.values, palette='Blues_d')\n",
    "ax.set_title('Median delay in follow up per Agent (Number of Days)')\n",
    "ax.set_xlabel('AgentId')\n",
    "ax.set_ylabel('Median Delay (Number of Days)')\n",
    "plt.savefig('Median delay in follow up per agent.png')"
   ]
  },
  {
   "cell_type": "markdown",
   "id": "20e37c4e",
   "metadata": {},
   "source": [
    "# Useful information in additional_data"
   ]
  },
  {
   "cell_type": "code",
   "execution_count": 30,
   "id": "58ea1b00",
   "metadata": {},
   "outputs": [
    {
     "data": {
      "text/html": [
       "<div>\n",
       "<style scoped>\n",
       "    .dataframe tbody tr th:only-of-type {\n",
       "        vertical-align: middle;\n",
       "    }\n",
       "\n",
       "    .dataframe tbody tr th {\n",
       "        vertical-align: top;\n",
       "    }\n",
       "\n",
       "    .dataframe thead th {\n",
       "        text-align: right;\n",
       "    }\n",
       "</style>\n",
       "<table border=\"1\" class=\"dataframe\">\n",
       "  <thead>\n",
       "    <tr style=\"text-align: right;\">\n",
       "      <th></th>\n",
       "      <th>id</th>\n",
       "      <th>followup_date</th>\n",
       "      <th>lead_created_at</th>\n",
       "      <th>leadId</th>\n",
       "      <th>followup_type</th>\n",
       "      <th>agentId</th>\n",
       "      <th>additional_data</th>\n",
       "      <th>follow_up_delay (days)</th>\n",
       "    </tr>\n",
       "  </thead>\n",
       "  <tbody>\n",
       "    <tr>\n",
       "      <th>0</th>\n",
       "      <td>1</td>\n",
       "      <td>2020-03-05</td>\n",
       "      <td>2019-11-04</td>\n",
       "      <td>20293</td>\n",
       "      <td>calls</td>\n",
       "      <td>10</td>\n",
       "      <td>{'duration': 0, 'is_incoming': False}</td>\n",
       "      <td>122</td>\n",
       "    </tr>\n",
       "    <tr>\n",
       "      <th>1</th>\n",
       "      <td>2</td>\n",
       "      <td>2020-03-05</td>\n",
       "      <td>2019-11-04</td>\n",
       "      <td>20293</td>\n",
       "      <td>calls</td>\n",
       "      <td>10</td>\n",
       "      <td>{'duration': 0, 'is_incoming': False}</td>\n",
       "      <td>122</td>\n",
       "    </tr>\n",
       "    <tr>\n",
       "      <th>2</th>\n",
       "      <td>3</td>\n",
       "      <td>2020-01-06</td>\n",
       "      <td>2019-12-26</td>\n",
       "      <td>49122</td>\n",
       "      <td>calls</td>\n",
       "      <td>4</td>\n",
       "      <td>{'duration': 91, 'is_incoming': False}</td>\n",
       "      <td>11</td>\n",
       "    </tr>\n",
       "    <tr>\n",
       "      <th>3</th>\n",
       "      <td>4</td>\n",
       "      <td>2020-08-31</td>\n",
       "      <td>2020-08-30</td>\n",
       "      <td>58040</td>\n",
       "      <td>calls</td>\n",
       "      <td>9</td>\n",
       "      <td>{'duration': 0, 'is_incoming': False}</td>\n",
       "      <td>1</td>\n",
       "    </tr>\n",
       "    <tr>\n",
       "      <th>4</th>\n",
       "      <td>5</td>\n",
       "      <td>2020-10-14</td>\n",
       "      <td>2017-01-28</td>\n",
       "      <td>36567</td>\n",
       "      <td>calls</td>\n",
       "      <td>9</td>\n",
       "      <td>{'duration': 0, 'is_incoming': False}</td>\n",
       "      <td>1355</td>\n",
       "    </tr>\n",
       "  </tbody>\n",
       "</table>\n",
       "</div>"
      ],
      "text/plain": [
       "   id followup_date lead_created_at  leadId followup_type  agentId  \\\n",
       "0   1    2020-03-05      2019-11-04   20293         calls       10   \n",
       "1   2    2020-03-05      2019-11-04   20293         calls       10   \n",
       "2   3    2020-01-06      2019-12-26   49122         calls        4   \n",
       "3   4    2020-08-31      2020-08-30   58040         calls        9   \n",
       "4   5    2020-10-14      2017-01-28   36567         calls        9   \n",
       "\n",
       "                          additional_data  follow_up_delay (days)  \n",
       "0   {'duration': 0, 'is_incoming': False}                     122  \n",
       "1   {'duration': 0, 'is_incoming': False}                     122  \n",
       "2  {'duration': 91, 'is_incoming': False}                      11  \n",
       "3   {'duration': 0, 'is_incoming': False}                       1  \n",
       "4   {'duration': 0, 'is_incoming': False}                    1355  "
      ]
     },
     "execution_count": 30,
     "metadata": {},
     "output_type": "execute_result"
    }
   ],
   "source": [
    "df.head()"
   ]
  },
  {
   "cell_type": "code",
   "execution_count": 31,
   "id": "4747ee7c",
   "metadata": {},
   "outputs": [
    {
     "data": {
      "text/html": [
       "<div>\n",
       "<style scoped>\n",
       "    .dataframe tbody tr th:only-of-type {\n",
       "        vertical-align: middle;\n",
       "    }\n",
       "\n",
       "    .dataframe tbody tr th {\n",
       "        vertical-align: top;\n",
       "    }\n",
       "\n",
       "    .dataframe thead th {\n",
       "        text-align: right;\n",
       "    }\n",
       "</style>\n",
       "<table border=\"1\" class=\"dataframe\">\n",
       "  <thead>\n",
       "    <tr style=\"text-align: right;\">\n",
       "      <th></th>\n",
       "      <th>id</th>\n",
       "      <th>followup_date</th>\n",
       "      <th>lead_created_at</th>\n",
       "      <th>leadId</th>\n",
       "      <th>followup_type</th>\n",
       "      <th>agentId</th>\n",
       "      <th>follow_up_delay (days)</th>\n",
       "      <th>duration</th>\n",
       "      <th>isIncoming</th>\n",
       "    </tr>\n",
       "  </thead>\n",
       "  <tbody>\n",
       "    <tr>\n",
       "      <th>0</th>\n",
       "      <td>1</td>\n",
       "      <td>2020-03-05</td>\n",
       "      <td>2019-11-04</td>\n",
       "      <td>20293</td>\n",
       "      <td>calls</td>\n",
       "      <td>10</td>\n",
       "      <td>122</td>\n",
       "      <td>0.0</td>\n",
       "      <td>False</td>\n",
       "    </tr>\n",
       "    <tr>\n",
       "      <th>1</th>\n",
       "      <td>2</td>\n",
       "      <td>2020-03-05</td>\n",
       "      <td>2019-11-04</td>\n",
       "      <td>20293</td>\n",
       "      <td>calls</td>\n",
       "      <td>10</td>\n",
       "      <td>122</td>\n",
       "      <td>0.0</td>\n",
       "      <td>False</td>\n",
       "    </tr>\n",
       "    <tr>\n",
       "      <th>2</th>\n",
       "      <td>3</td>\n",
       "      <td>2020-01-06</td>\n",
       "      <td>2019-12-26</td>\n",
       "      <td>49122</td>\n",
       "      <td>calls</td>\n",
       "      <td>4</td>\n",
       "      <td>11</td>\n",
       "      <td>91.0</td>\n",
       "      <td>False</td>\n",
       "    </tr>\n",
       "    <tr>\n",
       "      <th>3</th>\n",
       "      <td>4</td>\n",
       "      <td>2020-08-31</td>\n",
       "      <td>2020-08-30</td>\n",
       "      <td>58040</td>\n",
       "      <td>calls</td>\n",
       "      <td>9</td>\n",
       "      <td>1</td>\n",
       "      <td>0.0</td>\n",
       "      <td>False</td>\n",
       "    </tr>\n",
       "    <tr>\n",
       "      <th>4</th>\n",
       "      <td>5</td>\n",
       "      <td>2020-10-14</td>\n",
       "      <td>2017-01-28</td>\n",
       "      <td>36567</td>\n",
       "      <td>calls</td>\n",
       "      <td>9</td>\n",
       "      <td>1355</td>\n",
       "      <td>0.0</td>\n",
       "      <td>False</td>\n",
       "    </tr>\n",
       "  </tbody>\n",
       "</table>\n",
       "</div>"
      ],
      "text/plain": [
       "   id followup_date lead_created_at  leadId followup_type  agentId  \\\n",
       "0   1    2020-03-05      2019-11-04   20293         calls       10   \n",
       "1   2    2020-03-05      2019-11-04   20293         calls       10   \n",
       "2   3    2020-01-06      2019-12-26   49122         calls        4   \n",
       "3   4    2020-08-31      2020-08-30   58040         calls        9   \n",
       "4   5    2020-10-14      2017-01-28   36567         calls        9   \n",
       "\n",
       "   follow_up_delay (days)  duration  isIncoming  \n",
       "0                     122       0.0       False  \n",
       "1                     122       0.0       False  \n",
       "2                      11      91.0       False  \n",
       "3                       1       0.0       False  \n",
       "4                    1355       0.0       False  "
      ]
     },
     "execution_count": 31,
     "metadata": {},
     "output_type": "execute_result"
    }
   ],
   "source": [
    "#Convert the string to dictionary and then expand into 2 new columns named Duration and isIncoming\n",
    "df[['duration', 'isIncoming']] = df['additional_data'].map(eval).apply(pd.Series)\n",
    "df.drop(columns = 'additional_data', inplace = True)\n",
    "df.head()"
   ]
  },
  {
   "cell_type": "code",
   "execution_count": 32,
   "id": "7441b49e",
   "metadata": {},
   "outputs": [
    {
     "data": {
      "text/plain": [
       "95.16487696404015"
      ]
     },
     "execution_count": 32,
     "metadata": {},
     "output_type": "execute_result"
    }
   ],
   "source": [
    "df['duration'].isnull().sum() / len(df['duration']) * 100"
   ]
  },
  {
   "cell_type": "code",
   "execution_count": 33,
   "id": "5bdace5b",
   "metadata": {},
   "outputs": [],
   "source": [
    "df['duration'].fillna(0, inplace = True)"
   ]
  },
  {
   "cell_type": "markdown",
   "id": "64ba2c93",
   "metadata": {},
   "source": [
    "Since, 65000 (95%) rows in Duration columns are Null, it is okay to remove duration from our analysis as it wouldnot contribute much to the analysis.\n"
   ]
  },
  {
   "cell_type": "code",
   "execution_count": 34,
   "id": "3bda8b7c",
   "metadata": {},
   "outputs": [],
   "source": [
    "df = df.drop(columns = 'duration')"
   ]
  },
  {
   "cell_type": "markdown",
   "id": "ee30870f",
   "metadata": {},
   "source": [
    " If agent calls their leads then isIncoming = 0 else 1"
   ]
  },
  {
   "cell_type": "code",
   "execution_count": 35,
   "id": "76c1127a",
   "metadata": {},
   "outputs": [
    {
     "data": {
      "text/html": [
       "<div>\n",
       "<style scoped>\n",
       "    .dataframe tbody tr th:only-of-type {\n",
       "        vertical-align: middle;\n",
       "    }\n",
       "\n",
       "    .dataframe tbody tr th {\n",
       "        vertical-align: top;\n",
       "    }\n",
       "\n",
       "    .dataframe thead th {\n",
       "        text-align: right;\n",
       "    }\n",
       "</style>\n",
       "<table border=\"1\" class=\"dataframe\">\n",
       "  <thead>\n",
       "    <tr style=\"text-align: right;\">\n",
       "      <th></th>\n",
       "      <th>id</th>\n",
       "      <th>followup_date</th>\n",
       "      <th>lead_created_at</th>\n",
       "      <th>leadId</th>\n",
       "      <th>followup_type</th>\n",
       "      <th>agentId</th>\n",
       "      <th>follow_up_delay (days)</th>\n",
       "      <th>isIncoming</th>\n",
       "    </tr>\n",
       "  </thead>\n",
       "  <tbody>\n",
       "    <tr>\n",
       "      <th>0</th>\n",
       "      <td>1</td>\n",
       "      <td>2020-03-05</td>\n",
       "      <td>2019-11-04</td>\n",
       "      <td>20293</td>\n",
       "      <td>calls</td>\n",
       "      <td>10</td>\n",
       "      <td>122</td>\n",
       "      <td>0.0</td>\n",
       "    </tr>\n",
       "    <tr>\n",
       "      <th>1</th>\n",
       "      <td>2</td>\n",
       "      <td>2020-03-05</td>\n",
       "      <td>2019-11-04</td>\n",
       "      <td>20293</td>\n",
       "      <td>calls</td>\n",
       "      <td>10</td>\n",
       "      <td>122</td>\n",
       "      <td>0.0</td>\n",
       "    </tr>\n",
       "    <tr>\n",
       "      <th>2</th>\n",
       "      <td>3</td>\n",
       "      <td>2020-01-06</td>\n",
       "      <td>2019-12-26</td>\n",
       "      <td>49122</td>\n",
       "      <td>calls</td>\n",
       "      <td>4</td>\n",
       "      <td>11</td>\n",
       "      <td>0.0</td>\n",
       "    </tr>\n",
       "    <tr>\n",
       "      <th>3</th>\n",
       "      <td>4</td>\n",
       "      <td>2020-08-31</td>\n",
       "      <td>2020-08-30</td>\n",
       "      <td>58040</td>\n",
       "      <td>calls</td>\n",
       "      <td>9</td>\n",
       "      <td>1</td>\n",
       "      <td>0.0</td>\n",
       "    </tr>\n",
       "    <tr>\n",
       "      <th>4</th>\n",
       "      <td>5</td>\n",
       "      <td>2020-10-14</td>\n",
       "      <td>2017-01-28</td>\n",
       "      <td>36567</td>\n",
       "      <td>calls</td>\n",
       "      <td>9</td>\n",
       "      <td>1355</td>\n",
       "      <td>0.0</td>\n",
       "    </tr>\n",
       "  </tbody>\n",
       "</table>\n",
       "</div>"
      ],
      "text/plain": [
       "   id followup_date lead_created_at  leadId followup_type  agentId  \\\n",
       "0   1    2020-03-05      2019-11-04   20293         calls       10   \n",
       "1   2    2020-03-05      2019-11-04   20293         calls       10   \n",
       "2   3    2020-01-06      2019-12-26   49122         calls        4   \n",
       "3   4    2020-08-31      2020-08-30   58040         calls        9   \n",
       "4   5    2020-10-14      2017-01-28   36567         calls        9   \n",
       "\n",
       "   follow_up_delay (days)  isIncoming  \n",
       "0                     122         0.0  \n",
       "1                     122         0.0  \n",
       "2                      11         0.0  \n",
       "3                       1         0.0  \n",
       "4                    1355         0.0  "
      ]
     },
     "execution_count": 35,
     "metadata": {},
     "output_type": "execute_result"
    }
   ],
   "source": [
    "df['isIncoming'] = df['isIncoming'].astype(float)\n",
    "df.head()"
   ]
  },
  {
   "cell_type": "code",
   "execution_count": 36,
   "id": "eb58159b",
   "metadata": {},
   "outputs": [
    {
     "data": {
      "text/plain": [
       "agentId\n",
       "0      115.0\n",
       "2      341.0\n",
       "3       24.0\n",
       "4     3405.0\n",
       "5      133.0\n",
       "6     2257.0\n",
       "7     4711.0\n",
       "8      160.0\n",
       "9     2215.0\n",
       "10    3780.0\n",
       "Name: isIncoming, dtype: float64"
      ]
     },
     "execution_count": 36,
     "metadata": {},
     "output_type": "execute_result"
    }
   ],
   "source": [
    "calls_to_leads = df.groupby('agentId')['isIncoming'].sum()\n",
    "calls_to_leads"
   ]
  },
  {
   "cell_type": "code",
   "execution_count": 37,
   "id": "d38bff28",
   "metadata": {},
   "outputs": [
    {
     "data": {
      "image/png": "[encoded data removed]",
      "text/plain": [
       "<Figure size 1080x720 with 1 Axes>"
      ]
     },
     "metadata": {},
     "output_type": "display_data"
    }
   ],
   "source": [
    "plt.figure(figsize=(15,10))\n",
    "ax = sns.barplot(x = calls_to_leads.index, y = calls_to_leads.values, palette='Blues_d')\n",
    "ax.set_title('Total number of times an Agent gets a call from a lead')\n",
    "ax.set_xlabel('AgentId')\n",
    "ax.set_ylabel('Count')\n",
    "plt.savefig('Total number of times an Agent gets a call from a lead.png')"
   ]
  },
  {
   "cell_type": "markdown",
   "id": "a1dd7d75",
   "metadata": {},
   "source": [
    "# Ranking the Agents\n",
    "Now, we have many different variables on which we can calculate an agents performance. The most basic algorithm would be to rank each agent based on a criteria and give them a score so doing this for all such variables and getting the top 4 agents based on highest score achieved.\n"
   ]
  },
  {
   "cell_type": "code",
   "execution_count": 38,
   "id": "0526e36b",
   "metadata": {},
   "outputs": [
    {
     "data": {
      "text/html": [
       "<div>\n",
       "<style scoped>\n",
       "    .dataframe tbody tr th:only-of-type {\n",
       "        vertical-align: middle;\n",
       "    }\n",
       "\n",
       "    .dataframe tbody tr th {\n",
       "        vertical-align: top;\n",
       "    }\n",
       "\n",
       "    .dataframe thead th {\n",
       "        text-align: right;\n",
       "    }\n",
       "</style>\n",
       "<table border=\"1\" class=\"dataframe\">\n",
       "  <thead>\n",
       "    <tr style=\"text-align: right;\">\n",
       "      <th></th>\n",
       "      <th>id</th>\n",
       "      <th>followup_date</th>\n",
       "      <th>lead_created_at</th>\n",
       "      <th>leadId</th>\n",
       "      <th>followup_type</th>\n",
       "      <th>agentId</th>\n",
       "      <th>follow_up_delay (days)</th>\n",
       "      <th>isIncoming</th>\n",
       "    </tr>\n",
       "  </thead>\n",
       "  <tbody>\n",
       "    <tr>\n",
       "      <th>0</th>\n",
       "      <td>1</td>\n",
       "      <td>2020-03-05</td>\n",
       "      <td>2019-11-04</td>\n",
       "      <td>20293</td>\n",
       "      <td>calls</td>\n",
       "      <td>10</td>\n",
       "      <td>122</td>\n",
       "      <td>0.0</td>\n",
       "    </tr>\n",
       "    <tr>\n",
       "      <th>1</th>\n",
       "      <td>2</td>\n",
       "      <td>2020-03-05</td>\n",
       "      <td>2019-11-04</td>\n",
       "      <td>20293</td>\n",
       "      <td>calls</td>\n",
       "      <td>10</td>\n",
       "      <td>122</td>\n",
       "      <td>0.0</td>\n",
       "    </tr>\n",
       "    <tr>\n",
       "      <th>2</th>\n",
       "      <td>3</td>\n",
       "      <td>2020-01-06</td>\n",
       "      <td>2019-12-26</td>\n",
       "      <td>49122</td>\n",
       "      <td>calls</td>\n",
       "      <td>4</td>\n",
       "      <td>11</td>\n",
       "      <td>0.0</td>\n",
       "    </tr>\n",
       "    <tr>\n",
       "      <th>3</th>\n",
       "      <td>4</td>\n",
       "      <td>2020-08-31</td>\n",
       "      <td>2020-08-30</td>\n",
       "      <td>58040</td>\n",
       "      <td>calls</td>\n",
       "      <td>9</td>\n",
       "      <td>1</td>\n",
       "      <td>0.0</td>\n",
       "    </tr>\n",
       "    <tr>\n",
       "      <th>4</th>\n",
       "      <td>5</td>\n",
       "      <td>2020-10-14</td>\n",
       "      <td>2017-01-28</td>\n",
       "      <td>36567</td>\n",
       "      <td>calls</td>\n",
       "      <td>9</td>\n",
       "      <td>1355</td>\n",
       "      <td>0.0</td>\n",
       "    </tr>\n",
       "  </tbody>\n",
       "</table>\n",
       "</div>"
      ],
      "text/plain": [
       "   id followup_date lead_created_at  leadId followup_type  agentId  \\\n",
       "0   1    2020-03-05      2019-11-04   20293         calls       10   \n",
       "1   2    2020-03-05      2019-11-04   20293         calls       10   \n",
       "2   3    2020-01-06      2019-12-26   49122         calls        4   \n",
       "3   4    2020-08-31      2020-08-30   58040         calls        9   \n",
       "4   5    2020-10-14      2017-01-28   36567         calls        9   \n",
       "\n",
       "   follow_up_delay (days)  isIncoming  \n",
       "0                     122         0.0  \n",
       "1                     122         0.0  \n",
       "2                      11         0.0  \n",
       "3                       1         0.0  \n",
       "4                    1355         0.0  "
      ]
     },
     "execution_count": 38,
     "metadata": {},
     "output_type": "execute_result"
    }
   ],
   "source": [
    "df.head()"
   ]
  },
  {
   "cell_type": "code",
   "execution_count": 39,
   "id": "90632ab8",
   "metadata": {},
   "outputs": [
    {
     "data": {
      "text/plain": [
       "4     10.0\n",
       "10     9.0\n",
       "5      8.0\n",
       "9      7.0\n",
       "7      6.0\n",
       "6      5.0\n",
       "2      4.0\n",
       "8      3.0\n",
       "3      2.0\n",
       "0      1.0\n",
       "Name: agentId, dtype: float64"
      ]
     },
     "execution_count": 39,
     "metadata": {},
     "output_type": "execute_result"
    }
   ],
   "source": [
    "ranking_agents = ag_follow_ups.rank()\n",
    "ranking_agents"
   ]
  },
  {
   "cell_type": "code",
   "execution_count": 40,
   "id": "08e4646e",
   "metadata": {},
   "outputs": [
    {
     "data": {
      "text/plain": [
       "agentId\n",
       "4     10.0\n",
       "10     9.0\n",
       "9      8.0\n",
       "2      7.0\n",
       "8      6.0\n",
       "5      5.0\n",
       "7      4.0\n",
       "6      3.0\n",
       "3      2.0\n",
       "0      1.0\n",
       "Name: leadId, dtype: float64"
      ]
     },
     "execution_count": 40,
     "metadata": {},
     "output_type": "execute_result"
    }
   ],
   "source": [
    "rank_leads_per_agent = leads_per_agent.sort_values(ascending = False).rank()\n",
    "rank_leads_per_agent"
   ]
  },
  {
   "cell_type": "code",
   "execution_count": 41,
   "id": "8721ed2d",
   "metadata": {},
   "outputs": [
    {
     "data": {
      "text/plain": [
       "agentId\n",
       "5     10.0\n",
       "2      8.0\n",
       "8      9.0\n",
       "6      7.0\n",
       "0      6.0\n",
       "9      5.0\n",
       "10     4.0\n",
       "4      3.0\n",
       "3      2.0\n",
       "7      1.0\n",
       "Name: follow_up_delay (days), dtype: float64"
      ]
     },
     "execution_count": 41,
     "metadata": {},
     "output_type": "execute_result"
    }
   ],
   "source": [
    "rank_median_delay = delay_per_agent.sort_values().rank(method = 'first', ascending = False)\n",
    "rank_median_delay"
   ]
  },
  {
   "cell_type": "code",
   "execution_count": 42,
   "id": "72a1ad7f",
   "metadata": {},
   "outputs": [
    {
     "data": {
      "text/plain": [
       "agentId\n",
       "7     10.0\n",
       "10     9.0\n",
       "4      8.0\n",
       "6      7.0\n",
       "9      6.0\n",
       "2      5.0\n",
       "8      4.0\n",
       "5      3.0\n",
       "0      2.0\n",
       "3      1.0\n",
       "Name: isIncoming, dtype: float64"
      ]
     },
     "execution_count": 42,
     "metadata": {},
     "output_type": "execute_result"
    }
   ],
   "source": [
    "rank_agent_incoming_calls = calls_to_leads.sort_values(ascending=False).rank()\n",
    "rank_agent_incoming_calls"
   ]
  },
  {
   "cell_type": "code",
   "execution_count": 47,
   "id": "1a8adcdb",
   "metadata": {},
   "outputs": [
    {
     "data": {
      "text/plain": [
       "agentId\n",
       "0       230.0\n",
       "2      4531.0\n",
       "3       542.0\n",
       "4     24527.0\n",
       "5     11423.0\n",
       "6      9166.0\n",
       "7     10614.0\n",
       "8      3812.0\n",
       "9     12084.0\n",
       "10    18327.0\n",
       "Name: total, dtype: float64"
      ]
     },
     "execution_count": 47,
     "metadata": {},
     "output_type": "execute_result"
    }
   ],
   "source": [
    "mapping = cnt_df.copy()\n",
    "mapping['total'] = mapping.apply(lambda x : (x['Calls']*3 + x['Texts']*2 + x['Emails']*1), axis = 1)\n",
    "mapping['total']"
   ]
  },
  {
   "cell_type": "code",
   "execution_count": 48,
   "id": "7a14ef9b",
   "metadata": {},
   "outputs": [
    {
     "data": {
      "text/plain": [
       "agentId\n",
       "4     10.0\n",
       "10     9.0\n",
       "9      8.0\n",
       "5      7.0\n",
       "7      6.0\n",
       "6      5.0\n",
       "2      4.0\n",
       "8      3.0\n",
       "3      2.0\n",
       "0      1.0\n",
       "Name: total, dtype: float64"
      ]
     },
     "execution_count": 48,
     "metadata": {},
     "output_type": "execute_result"
    }
   ],
   "source": [
    "rank_followup_type = mapping['total'].sort_values(ascending=False).rank()\n",
    "rank_followup_type"
   ]
  },
  {
   "cell_type": "code",
   "execution_count": 50,
   "id": "4a5a2d9d",
   "metadata": {},
   "outputs": [
    {
     "data": {
      "text/html": [
       "<div>\n",
       "<style scoped>\n",
       "    .dataframe tbody tr th:only-of-type {\n",
       "        vertical-align: middle;\n",
       "    }\n",
       "\n",
       "    .dataframe tbody tr th {\n",
       "        vertical-align: top;\n",
       "    }\n",
       "\n",
       "    .dataframe thead th {\n",
       "        text-align: right;\n",
       "    }\n",
       "</style>\n",
       "<table border=\"1\" class=\"dataframe\">\n",
       "  <thead>\n",
       "    <tr style=\"text-align: right;\">\n",
       "      <th></th>\n",
       "      <th>Number of Follow Ups</th>\n",
       "      <th>Number of Leads</th>\n",
       "      <th>Median Delay</th>\n",
       "      <th>Incoming Calls</th>\n",
       "      <th>Total of Calls/Mails/Texts</th>\n",
       "    </tr>\n",
       "  </thead>\n",
       "  <tbody>\n",
       "    <tr>\n",
       "      <th>0</th>\n",
       "      <td>1.0</td>\n",
       "      <td>1.0</td>\n",
       "      <td>6.0</td>\n",
       "      <td>2.0</td>\n",
       "      <td>1.0</td>\n",
       "    </tr>\n",
       "    <tr>\n",
       "      <th>2</th>\n",
       "      <td>4.0</td>\n",
       "      <td>7.0</td>\n",
       "      <td>8.0</td>\n",
       "      <td>5.0</td>\n",
       "      <td>4.0</td>\n",
       "    </tr>\n",
       "    <tr>\n",
       "      <th>3</th>\n",
       "      <td>2.0</td>\n",
       "      <td>2.0</td>\n",
       "      <td>2.0</td>\n",
       "      <td>1.0</td>\n",
       "      <td>2.0</td>\n",
       "    </tr>\n",
       "    <tr>\n",
       "      <th>4</th>\n",
       "      <td>10.0</td>\n",
       "      <td>10.0</td>\n",
       "      <td>3.0</td>\n",
       "      <td>8.0</td>\n",
       "      <td>10.0</td>\n",
       "    </tr>\n",
       "    <tr>\n",
       "      <th>5</th>\n",
       "      <td>8.0</td>\n",
       "      <td>5.0</td>\n",
       "      <td>10.0</td>\n",
       "      <td>3.0</td>\n",
       "      <td>7.0</td>\n",
       "    </tr>\n",
       "    <tr>\n",
       "      <th>6</th>\n",
       "      <td>5.0</td>\n",
       "      <td>3.0</td>\n",
       "      <td>7.0</td>\n",
       "      <td>7.0</td>\n",
       "      <td>5.0</td>\n",
       "    </tr>\n",
       "    <tr>\n",
       "      <th>7</th>\n",
       "      <td>6.0</td>\n",
       "      <td>4.0</td>\n",
       "      <td>1.0</td>\n",
       "      <td>10.0</td>\n",
       "      <td>6.0</td>\n",
       "    </tr>\n",
       "    <tr>\n",
       "      <th>8</th>\n",
       "      <td>3.0</td>\n",
       "      <td>6.0</td>\n",
       "      <td>9.0</td>\n",
       "      <td>4.0</td>\n",
       "      <td>3.0</td>\n",
       "    </tr>\n",
       "    <tr>\n",
       "      <th>9</th>\n",
       "      <td>7.0</td>\n",
       "      <td>8.0</td>\n",
       "      <td>5.0</td>\n",
       "      <td>6.0</td>\n",
       "      <td>8.0</td>\n",
       "    </tr>\n",
       "    <tr>\n",
       "      <th>10</th>\n",
       "      <td>9.0</td>\n",
       "      <td>9.0</td>\n",
       "      <td>4.0</td>\n",
       "      <td>9.0</td>\n",
       "      <td>9.0</td>\n",
       "    </tr>\n",
       "  </tbody>\n",
       "</table>\n",
       "</div>"
      ],
      "text/plain": [
       "    Number of Follow Ups  Number of Leads  Median Delay  Incoming Calls  \\\n",
       "0                    1.0              1.0           6.0             2.0   \n",
       "2                    4.0              7.0           8.0             5.0   \n",
       "3                    2.0              2.0           2.0             1.0   \n",
       "4                   10.0             10.0           3.0             8.0   \n",
       "5                    8.0              5.0          10.0             3.0   \n",
       "6                    5.0              3.0           7.0             7.0   \n",
       "7                    6.0              4.0           1.0            10.0   \n",
       "8                    3.0              6.0           9.0             4.0   \n",
       "9                    7.0              8.0           5.0             6.0   \n",
       "10                   9.0              9.0           4.0             9.0   \n",
       "\n",
       "    Total of Calls/Mails/Texts  \n",
       "0                          1.0  \n",
       "2                          4.0  \n",
       "3                          2.0  \n",
       "4                         10.0  \n",
       "5                          7.0  \n",
       "6                          5.0  \n",
       "7                          6.0  \n",
       "8                          3.0  \n",
       "9                          8.0  \n",
       "10                         9.0  "
      ]
     },
     "execution_count": 50,
     "metadata": {},
     "output_type": "execute_result"
    }
   ],
   "source": [
    "ranks = pd.DataFrame({'Number of Follow Ups': ranking_agents, 'Number of Leads': rank_leads_per_agent, 'Median Delay': rank_median_delay, 'Incoming Calls': rank_agent_incoming_calls, 'Total of Calls/Mails/Texts': rank_followup_type})\n",
    "ranks"
   ]
  },
  {
   "cell_type": "code",
   "execution_count": 51,
   "id": "9ce8d216",
   "metadata": {},
   "outputs": [
    {
     "data": {
      "text/html": [
       "<div>\n",
       "<style scoped>\n",
       "    .dataframe tbody tr th:only-of-type {\n",
       "        vertical-align: middle;\n",
       "    }\n",
       "\n",
       "    .dataframe tbody tr th {\n",
       "        vertical-align: top;\n",
       "    }\n",
       "\n",
       "    .dataframe thead th {\n",
       "        text-align: right;\n",
       "    }\n",
       "</style>\n",
       "<table border=\"1\" class=\"dataframe\">\n",
       "  <thead>\n",
       "    <tr style=\"text-align: right;\">\n",
       "      <th></th>\n",
       "      <th>Number of Follow Ups</th>\n",
       "      <th>Number of Leads</th>\n",
       "      <th>Median Delay</th>\n",
       "      <th>Incoming Calls</th>\n",
       "      <th>Total of Calls/Mails/Texts</th>\n",
       "    </tr>\n",
       "    <tr>\n",
       "      <th>AgentID</th>\n",
       "      <th></th>\n",
       "      <th></th>\n",
       "      <th></th>\n",
       "      <th></th>\n",
       "      <th></th>\n",
       "    </tr>\n",
       "  </thead>\n",
       "  <tbody>\n",
       "    <tr>\n",
       "      <th>0</th>\n",
       "      <td>1.0</td>\n",
       "      <td>1.0</td>\n",
       "      <td>6.0</td>\n",
       "      <td>2.0</td>\n",
       "      <td>1.0</td>\n",
       "    </tr>\n",
       "    <tr>\n",
       "      <th>2</th>\n",
       "      <td>4.0</td>\n",
       "      <td>7.0</td>\n",
       "      <td>8.0</td>\n",
       "      <td>5.0</td>\n",
       "      <td>4.0</td>\n",
       "    </tr>\n",
       "    <tr>\n",
       "      <th>3</th>\n",
       "      <td>2.0</td>\n",
       "      <td>2.0</td>\n",
       "      <td>2.0</td>\n",
       "      <td>1.0</td>\n",
       "      <td>2.0</td>\n",
       "    </tr>\n",
       "    <tr>\n",
       "      <th>4</th>\n",
       "      <td>10.0</td>\n",
       "      <td>10.0</td>\n",
       "      <td>3.0</td>\n",
       "      <td>8.0</td>\n",
       "      <td>10.0</td>\n",
       "    </tr>\n",
       "    <tr>\n",
       "      <th>5</th>\n",
       "      <td>8.0</td>\n",
       "      <td>5.0</td>\n",
       "      <td>10.0</td>\n",
       "      <td>3.0</td>\n",
       "      <td>7.0</td>\n",
       "    </tr>\n",
       "    <tr>\n",
       "      <th>6</th>\n",
       "      <td>5.0</td>\n",
       "      <td>3.0</td>\n",
       "      <td>7.0</td>\n",
       "      <td>7.0</td>\n",
       "      <td>5.0</td>\n",
       "    </tr>\n",
       "    <tr>\n",
       "      <th>7</th>\n",
       "      <td>6.0</td>\n",
       "      <td>4.0</td>\n",
       "      <td>1.0</td>\n",
       "      <td>10.0</td>\n",
       "      <td>6.0</td>\n",
       "    </tr>\n",
       "    <tr>\n",
       "      <th>8</th>\n",
       "      <td>3.0</td>\n",
       "      <td>6.0</td>\n",
       "      <td>9.0</td>\n",
       "      <td>4.0</td>\n",
       "      <td>3.0</td>\n",
       "    </tr>\n",
       "    <tr>\n",
       "      <th>9</th>\n",
       "      <td>7.0</td>\n",
       "      <td>8.0</td>\n",
       "      <td>5.0</td>\n",
       "      <td>6.0</td>\n",
       "      <td>8.0</td>\n",
       "    </tr>\n",
       "    <tr>\n",
       "      <th>10</th>\n",
       "      <td>9.0</td>\n",
       "      <td>9.0</td>\n",
       "      <td>4.0</td>\n",
       "      <td>9.0</td>\n",
       "      <td>9.0</td>\n",
       "    </tr>\n",
       "  </tbody>\n",
       "</table>\n",
       "</div>"
      ],
      "text/plain": [
       "         Number of Follow Ups  Number of Leads  Median Delay  Incoming Calls  \\\n",
       "AgentID                                                                        \n",
       "0                         1.0              1.0           6.0             2.0   \n",
       "2                         4.0              7.0           8.0             5.0   \n",
       "3                         2.0              2.0           2.0             1.0   \n",
       "4                        10.0             10.0           3.0             8.0   \n",
       "5                         8.0              5.0          10.0             3.0   \n",
       "6                         5.0              3.0           7.0             7.0   \n",
       "7                         6.0              4.0           1.0            10.0   \n",
       "8                         3.0              6.0           9.0             4.0   \n",
       "9                         7.0              8.0           5.0             6.0   \n",
       "10                        9.0              9.0           4.0             9.0   \n",
       "\n",
       "         Total of Calls/Mails/Texts  \n",
       "AgentID                              \n",
       "0                               1.0  \n",
       "2                               4.0  \n",
       "3                               2.0  \n",
       "4                              10.0  \n",
       "5                               7.0  \n",
       "6                               5.0  \n",
       "7                               6.0  \n",
       "8                               3.0  \n",
       "9                               8.0  \n",
       "10                              9.0  "
      ]
     },
     "execution_count": 51,
     "metadata": {},
     "output_type": "execute_result"
    }
   ],
   "source": [
    "ranks.index.name = 'AgentID'\n",
    "ranks"
   ]
  },
  {
   "cell_type": "code",
   "execution_count": 52,
   "id": "12d64d74",
   "metadata": {},
   "outputs": [
    {
     "data": {
      "text/html": [
       "<div>\n",
       "<style scoped>\n",
       "    .dataframe tbody tr th:only-of-type {\n",
       "        vertical-align: middle;\n",
       "    }\n",
       "\n",
       "    .dataframe tbody tr th {\n",
       "        vertical-align: top;\n",
       "    }\n",
       "\n",
       "    .dataframe thead th {\n",
       "        text-align: right;\n",
       "    }\n",
       "</style>\n",
       "<table border=\"1\" class=\"dataframe\">\n",
       "  <thead>\n",
       "    <tr style=\"text-align: right;\">\n",
       "      <th></th>\n",
       "      <th>Number of Follow Ups</th>\n",
       "      <th>Number of Leads</th>\n",
       "      <th>Median Delay</th>\n",
       "      <th>Incoming Calls</th>\n",
       "      <th>Total of Calls/Mails/Texts</th>\n",
       "      <th>Total</th>\n",
       "    </tr>\n",
       "    <tr>\n",
       "      <th>AgentID</th>\n",
       "      <th></th>\n",
       "      <th></th>\n",
       "      <th></th>\n",
       "      <th></th>\n",
       "      <th></th>\n",
       "      <th></th>\n",
       "    </tr>\n",
       "  </thead>\n",
       "  <tbody>\n",
       "    <tr>\n",
       "      <th>0</th>\n",
       "      <td>1.0</td>\n",
       "      <td>1.0</td>\n",
       "      <td>6.0</td>\n",
       "      <td>2.0</td>\n",
       "      <td>1.0</td>\n",
       "      <td>11.0</td>\n",
       "    </tr>\n",
       "    <tr>\n",
       "      <th>2</th>\n",
       "      <td>4.0</td>\n",
       "      <td>7.0</td>\n",
       "      <td>8.0</td>\n",
       "      <td>5.0</td>\n",
       "      <td>4.0</td>\n",
       "      <td>28.0</td>\n",
       "    </tr>\n",
       "    <tr>\n",
       "      <th>3</th>\n",
       "      <td>2.0</td>\n",
       "      <td>2.0</td>\n",
       "      <td>2.0</td>\n",
       "      <td>1.0</td>\n",
       "      <td>2.0</td>\n",
       "      <td>9.0</td>\n",
       "    </tr>\n",
       "    <tr>\n",
       "      <th>4</th>\n",
       "      <td>10.0</td>\n",
       "      <td>10.0</td>\n",
       "      <td>3.0</td>\n",
       "      <td>8.0</td>\n",
       "      <td>10.0</td>\n",
       "      <td>41.0</td>\n",
       "    </tr>\n",
       "    <tr>\n",
       "      <th>5</th>\n",
       "      <td>8.0</td>\n",
       "      <td>5.0</td>\n",
       "      <td>10.0</td>\n",
       "      <td>3.0</td>\n",
       "      <td>7.0</td>\n",
       "      <td>33.0</td>\n",
       "    </tr>\n",
       "  </tbody>\n",
       "</table>\n",
       "</div>"
      ],
      "text/plain": [
       "         Number of Follow Ups  Number of Leads  Median Delay  Incoming Calls  \\\n",
       "AgentID                                                                        \n",
       "0                         1.0              1.0           6.0             2.0   \n",
       "2                         4.0              7.0           8.0             5.0   \n",
       "3                         2.0              2.0           2.0             1.0   \n",
       "4                        10.0             10.0           3.0             8.0   \n",
       "5                         8.0              5.0          10.0             3.0   \n",
       "\n",
       "         Total of Calls/Mails/Texts  Total  \n",
       "AgentID                                     \n",
       "0                               1.0   11.0  \n",
       "2                               4.0   28.0  \n",
       "3                               2.0    9.0  \n",
       "4                              10.0   41.0  \n",
       "5                               7.0   33.0  "
      ]
     },
     "execution_count": 52,
     "metadata": {},
     "output_type": "execute_result"
    }
   ],
   "source": [
    "ranks['Total'] = ranks.sum(axis = 1)\n",
    "ranks.head()"
   ]
  },
  {
   "cell_type": "code",
   "execution_count": 53,
   "id": "ed96402a",
   "metadata": {},
   "outputs": [
    {
     "data": {
      "text/html": [
       "<div>\n",
       "<style scoped>\n",
       "    .dataframe tbody tr th:only-of-type {\n",
       "        vertical-align: middle;\n",
       "    }\n",
       "\n",
       "    .dataframe tbody tr th {\n",
       "        vertical-align: top;\n",
       "    }\n",
       "\n",
       "    .dataframe thead th {\n",
       "        text-align: right;\n",
       "    }\n",
       "</style>\n",
       "<table border=\"1\" class=\"dataframe\">\n",
       "  <thead>\n",
       "    <tr style=\"text-align: right;\">\n",
       "      <th></th>\n",
       "      <th>Number of Follow Ups</th>\n",
       "      <th>Number of Leads</th>\n",
       "      <th>Median Delay</th>\n",
       "      <th>Incoming Calls</th>\n",
       "      <th>Total of Calls/Mails/Texts</th>\n",
       "      <th>Total</th>\n",
       "    </tr>\n",
       "    <tr>\n",
       "      <th>AgentID</th>\n",
       "      <th></th>\n",
       "      <th></th>\n",
       "      <th></th>\n",
       "      <th></th>\n",
       "      <th></th>\n",
       "      <th></th>\n",
       "    </tr>\n",
       "  </thead>\n",
       "  <tbody>\n",
       "    <tr>\n",
       "      <th>4</th>\n",
       "      <td>10.0</td>\n",
       "      <td>10.0</td>\n",
       "      <td>3.0</td>\n",
       "      <td>8.0</td>\n",
       "      <td>10.0</td>\n",
       "      <td>41.0</td>\n",
       "    </tr>\n",
       "    <tr>\n",
       "      <th>10</th>\n",
       "      <td>9.0</td>\n",
       "      <td>9.0</td>\n",
       "      <td>4.0</td>\n",
       "      <td>9.0</td>\n",
       "      <td>9.0</td>\n",
       "      <td>40.0</td>\n",
       "    </tr>\n",
       "    <tr>\n",
       "      <th>9</th>\n",
       "      <td>7.0</td>\n",
       "      <td>8.0</td>\n",
       "      <td>5.0</td>\n",
       "      <td>6.0</td>\n",
       "      <td>8.0</td>\n",
       "      <td>34.0</td>\n",
       "    </tr>\n",
       "    <tr>\n",
       "      <th>5</th>\n",
       "      <td>8.0</td>\n",
       "      <td>5.0</td>\n",
       "      <td>10.0</td>\n",
       "      <td>3.0</td>\n",
       "      <td>7.0</td>\n",
       "      <td>33.0</td>\n",
       "    </tr>\n",
       "    <tr>\n",
       "      <th>2</th>\n",
       "      <td>4.0</td>\n",
       "      <td>7.0</td>\n",
       "      <td>8.0</td>\n",
       "      <td>5.0</td>\n",
       "      <td>4.0</td>\n",
       "      <td>28.0</td>\n",
       "    </tr>\n",
       "    <tr>\n",
       "      <th>6</th>\n",
       "      <td>5.0</td>\n",
       "      <td>3.0</td>\n",
       "      <td>7.0</td>\n",
       "      <td>7.0</td>\n",
       "      <td>5.0</td>\n",
       "      <td>27.0</td>\n",
       "    </tr>\n",
       "    <tr>\n",
       "      <th>7</th>\n",
       "      <td>6.0</td>\n",
       "      <td>4.0</td>\n",
       "      <td>1.0</td>\n",
       "      <td>10.0</td>\n",
       "      <td>6.0</td>\n",
       "      <td>27.0</td>\n",
       "    </tr>\n",
       "    <tr>\n",
       "      <th>8</th>\n",
       "      <td>3.0</td>\n",
       "      <td>6.0</td>\n",
       "      <td>9.0</td>\n",
       "      <td>4.0</td>\n",
       "      <td>3.0</td>\n",
       "      <td>25.0</td>\n",
       "    </tr>\n",
       "    <tr>\n",
       "      <th>0</th>\n",
       "      <td>1.0</td>\n",
       "      <td>1.0</td>\n",
       "      <td>6.0</td>\n",
       "      <td>2.0</td>\n",
       "      <td>1.0</td>\n",
       "      <td>11.0</td>\n",
       "    </tr>\n",
       "    <tr>\n",
       "      <th>3</th>\n",
       "      <td>2.0</td>\n",
       "      <td>2.0</td>\n",
       "      <td>2.0</td>\n",
       "      <td>1.0</td>\n",
       "      <td>2.0</td>\n",
       "      <td>9.0</td>\n",
       "    </tr>\n",
       "  </tbody>\n",
       "</table>\n",
       "</div>"
      ],
      "text/plain": [
       "         Number of Follow Ups  Number of Leads  Median Delay  Incoming Calls  \\\n",
       "AgentID                                                                        \n",
       "4                        10.0             10.0           3.0             8.0   \n",
       "10                        9.0              9.0           4.0             9.0   \n",
       "9                         7.0              8.0           5.0             6.0   \n",
       "5                         8.0              5.0          10.0             3.0   \n",
       "2                         4.0              7.0           8.0             5.0   \n",
       "6                         5.0              3.0           7.0             7.0   \n",
       "7                         6.0              4.0           1.0            10.0   \n",
       "8                         3.0              6.0           9.0             4.0   \n",
       "0                         1.0              1.0           6.0             2.0   \n",
       "3                         2.0              2.0           2.0             1.0   \n",
       "\n",
       "         Total of Calls/Mails/Texts  Total  \n",
       "AgentID                                     \n",
       "4                              10.0   41.0  \n",
       "10                              9.0   40.0  \n",
       "9                               8.0   34.0  \n",
       "5                               7.0   33.0  \n",
       "2                               4.0   28.0  \n",
       "6                               5.0   27.0  \n",
       "7                               6.0   27.0  \n",
       "8                               3.0   25.0  \n",
       "0                               1.0   11.0  \n",
       "3                               2.0    9.0  "
      ]
     },
     "execution_count": 53,
     "metadata": {},
     "output_type": "execute_result"
    }
   ],
   "source": [
    "ranks = ranks.sort_values('Total', ascending = False)\n",
    "ranks"
   ]
  },
  {
   "cell_type": "code",
   "execution_count": 56,
   "id": "0828322c",
   "metadata": {},
   "outputs": [
    {
     "name": "stdout",
     "output_type": "stream",
     "text": [
      "Top 4 Agent IDs :\n",
      "\n",
      "4\n",
      "10\n",
      "9\n",
      "5\n"
     ]
    }
   ],
   "source": [
    "\n",
    "agent4 = ranks['Total'].nlargest(4)\n",
    "print ('Top 4 Agent IDs :\\n' )\n",
    "for agent in agent4.index:\n",
    "    print (agent)\n",
    "\n",
    " "
   ]
  },
  {
   "cell_type": "markdown",
   "id": "eaa458ff",
   "metadata": {},
   "source": [
    "## Top 4 Agent IDs :\n",
    "\n",
    "4\n",
    "10\n",
    "9\n",
    "5"
   ]
  },
  {
   "cell_type": "code",
   "execution_count": null,
   "id": "2f81f4b7",
   "metadata": {},
   "outputs": [],
   "source": []
  }
 ],
 "metadata": {
  "kernelspec": {
   "display_name": "Python 3 (ipykernel)",
   "language": "python",
   "name": "python3"
  },
  "language_info": {
   "codemirror_mode": {
    "name": "ipython",
    "version": 3
   },
   "file_extension": ".py",
   "mimetype": "text/x-python",
   "name": "python",
   "nbconvert_exporter": "python",
   "pygments_lexer": "ipython3",
   "version": "3.9.7"
  }
 },
 "nbformat": 4,
 "nbformat_minor": 5
}
